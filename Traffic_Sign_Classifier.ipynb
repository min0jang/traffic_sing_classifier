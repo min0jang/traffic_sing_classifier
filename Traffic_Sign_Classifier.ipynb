{
 "cells": [
  {
   "cell_type": "code",
   "execution_count": 2,
   "metadata": {},
   "outputs": [],
   "source": [
    "import numpy as np\n",
    "import pickle\n",
    "import random\n",
    "import matplotlib.pyplot as plt\n",
    "\n",
    "\n",
    "'''\n",
    "Load the Data\n",
    "'''\n",
    "\n",
    "# Load pickled data\n",
    "training_file = './data/train.p'\n",
    "validation_file= './data/valid.p'\n",
    "testing_file = './data/test.p'\n",
    "\n",
    "with open(training_file, mode='rb') as f:\n",
    "    train = pickle.load(f)\n",
    "with open(validation_file, mode='rb') as f:\n",
    "    valid = pickle.load(f)\n",
    "with open(testing_file, mode='rb') as f:\n",
    "    test = pickle.load(f)\n",
    "    \n",
    "X_train, y_train = train['features'], train['labels']\n",
    "X_valid, y_valid = valid['features'], valid['labels']\n",
    "X_test, y_test = test['features'], test['labels']\n",
    "\n",
    "# Check the loaded data\n",
    "assert (len(X_train) == len(y_train)),\"train data length does not match\"\n",
    "assert (len(X_valid) == len(y_valid)),\"validation data length does not match\"\n",
    "assert (len(X_test) == len(y_test)),\"test data length does not match\""
   ]
  },
  {
   "cell_type": "code",
   "execution_count": 3,
   "metadata": {},
   "outputs": [
    {
     "name": "stdout",
     "output_type": "stream",
     "text": [
      "X_train data shape : (34799, 32, 32, 3)\n",
      "y_train data shape : (34799,)\n",
      "X_valid data shape : (4410, 32, 32, 3)\n",
      "y_valid data shape : (4410,)\n",
      "X_test data shape : (12630, 32, 32, 3)\n",
      "y_test data shape : (12630,)\n"
     ]
    }
   ],
   "source": [
    "'''\n",
    "Print shapes of the loaded data\n",
    "'''\n",
    "# Train\n",
    "print('X_train data shape : {}'.format(X_train.shape))\n",
    "print('y_train data shape : {}'.format(y_train.shape))\n",
    "\n",
    "# Validation\n",
    "print('X_valid data shape : {}'.format(X_valid.shape))\n",
    "print('y_valid data shape : {}'.format(y_valid.shape))\n",
    "\n",
    "# Test\n",
    "print('X_test data shape : {}'.format(X_test.shape))\n",
    "print('y_test data shape : {}'.format(y_test.shape))"
   ]
  },
  {
   "cell_type": "code",
   "execution_count": 4,
   "metadata": {},
   "outputs": [
    {
     "name": "stdout",
     "output_type": "stream",
     "text": [
      "Number of training examples = 34799\n",
      "Number of validation examples = 4410\n",
      "Number of testing examples = 12630\n",
      "Image data shape = 32 x 32\n",
      "Number of classes = 43\n"
     ]
    }
   ],
   "source": [
    "'''\n",
    "Basic Summary of the Data Set \n",
    "'''\n",
    "# Number of training examples\n",
    "n_train = X_train.shape[0]\n",
    "\n",
    "# Number of validation examples\n",
    "n_validation = X_valid.shape[0]\n",
    "\n",
    "# Number of testing examples.\n",
    "n_test = X_test.shape[0]\n",
    "\n",
    "# What's the shape of an traffic sign image?\n",
    "image_shape = X_train.shape[1], X_train.shape[2]\n",
    "\n",
    "# How many unique classes/labels there are in the dataset.\n",
    "n_classes = len(np.unique(train['labels']))\n",
    "\n",
    "print(\"Number of training examples =\", n_train)\n",
    "print(\"Number of validation examples =\", n_validation)\n",
    "print(\"Number of testing examples =\", n_test)\n",
    "print(\"Image data shape =\", image_shape[0], 'x', image_shape[1])\n",
    "print(\"Number of classes =\", n_classes)"
   ]
  },
  {
   "cell_type": "code",
   "execution_count": 5,
   "metadata": {},
   "outputs": [
    {
     "name": "stdout",
     "output_type": "stream",
     "text": [
      "    ClassId                                           SignName\n",
      "38       38                                         Keep right\n",
      "39       39                                          Keep left\n",
      "40       40                               Roundabout mandatory\n",
      "41       41                                  End of no passing\n",
      "42       42  End of no passing by vehicles over 3.5 metric ...\n"
     ]
    }
   ],
   "source": [
    "import pandas as pd\n",
    "\n",
    "'''\n",
    "Import Class Id and Sign Names\n",
    "'''\n",
    "\n",
    "data = pd.read_csv('signnames.csv') \n",
    "print(data.tail())\n",
    "\n",
    "ClassId = data['ClassId']\n",
    "SignName = data['SignName']"
   ]
  },
  {
   "cell_type": "code",
   "execution_count": 6,
   "metadata": {},
   "outputs": [
    {
     "name": "stdout",
     "output_type": "stream",
     "text": [
      "32484\n",
      "1809\n",
      "13938\n"
     ]
    },
    {
     "data": {
      "image/png": "[encoded data removed]",
      "text/plain": [
       "<matplotlib.figure.Figure at 0x7f0c0a366160>"
      ]
     },
     "metadata": {
      "needs_background": "light"
     },
     "output_type": "display_data"
    }
   ],
   "source": [
    "%matplotlib inline\n",
    "\n",
    "'''\n",
    "Show three random example of data image\n",
    "'''\n",
    "\n",
    "num_example = 3\n",
    "fig, axes = plt.subplots(1, num_example, figsize=(12,3))\n",
    "\n",
    "for i in range(3):\n",
    "    index = random.randint(0, len(X_train))\n",
    "    image = X_train[index].squeeze()\n",
    "    answer = y_train[index]\n",
    "    axes[i].axis('off')\n",
    "    axes[i].imshow(image)\n",
    "    axes[i].set_title('{}: {}'.format(ClassId[answer],SignName[answer]))\n",
    "    print(index)"
   ]
  },
  {
   "cell_type": "code",
   "execution_count": 7,
   "metadata": {},
   "outputs": [
    {
     "data": {
      "text/plain": [
       "Text(19,675,'Test total number: 12630')"
      ]
     },
     "execution_count": 7,
     "metadata": {},
     "output_type": "execute_result"
    },
    {
     "data": {
      "image/png": "[encoded data removed]",
      "text/plain": [
       "<matplotlib.figure.Figure at 0x7f0c0991f4e0>"
      ]
     },
     "metadata": {
      "needs_background": "light"
     },
     "output_type": "display_data"
    }
   ],
   "source": [
    "'''\n",
    "Check distribution of the dataset with histogram\n",
    "'''\n",
    "\n",
    "fig, (ax1, ax2, ax3) = plt.subplots(3, 1, figsize=(12,11))\n",
    "\n",
    "# train data\n",
    "ax1.hist(y_train, np.unique(y_train))\n",
    "ax1.set_title('train', fontsize=15)\n",
    "ax1.text(19,np.max(np.bincount(y_train))*0.9,'total number: {}'.format(len(y_train)), fontsize=12)\n",
    "\n",
    "# valid data\n",
    "ax2.hist(y_valid, np.unique(y_valid))\n",
    "ax2.set_title('validation', fontsize=15)\n",
    "ax2.text(19,np.max(np.bincount(y_valid))*0.9,'Validation total number: {}'.format(len(y_valid)), fontsize=12)\n",
    "\n",
    "# test data\n",
    "ax3.hist(y_test, np.unique(y_test))\n",
    "ax3.set_title('test', fontsize=15)\n",
    "ax3.text(19,np.max(np.bincount(y_test))*0.9,'Test total number: {}'.format(len(y_test)), fontsize=12)"
   ]
  },
  {
   "cell_type": "markdown",
   "metadata": {},
   "source": [
    "From the histogram above, note that some classes appear MUCH more than others!"
   ]
  },
  {
   "cell_type": "markdown",
   "metadata": {},
   "source": [
    "\n",
    "----\n",
    "\n",
    "## Step 2: Design and Test a Model Architecture\n",
    "\n",
    "Design and implement a deep learning model that learns to recognize traffic signs. Train and test your model on the [German Traffic Sign Dataset](http://benchmark.ini.rub.de/?section=gtsrb&subsection=dataset).\n",
    "\n",
    "The LeNet-5 implementation shown in the [classroom](https://classroom.udacity.com/nanodegrees/nd013/parts/fbf77062-5703-404e-b60c-95b78b2f3f9e/modules/6df7ae49-c61c-4bb2-a23e-6527e69209ec/lessons/601ae704-1035-4287-8b11-e2c2716217ad/concepts/d4aca031-508f-4e0b-b493-e7b706120f81) at the end of the CNN lesson is a solid starting point. You'll have to change the number of classes and possibly the preprocessing, but aside from that it's plug and play! \n",
    "\n",
    "With the LeNet-5 solution from the lecture, you should expect a validation set accuracy of about 0.89. To meet specifications, the validation set accuracy will need to be at least 0.93. It is possible to get an even higher accuracy, but 0.93 is the minimum for a successful project submission. \n",
    "\n",
    "There are various aspects to consider when thinking about this problem:\n",
    "\n",
    "- Neural network architecture (is the network over or underfitting?)\n",
    "- Play around preprocessing techniques (normalization, rgb to grayscale, etc)\n",
    "- Number of examples per label (some have more than others).\n",
    "- Generate fake data.\n",
    "\n",
    "Here is an example of a [published baseline model on this problem](http://yann.lecun.com/exdb/publis/pdf/sermanet-ijcnn-11.pdf). It's not required to be familiar with the approach used in the paper but, it's good practice to try to read papers like these."
   ]
  },
  {
   "cell_type": "markdown",
   "metadata": {},
   "source": [
    "### Pre-process the Data Set (normalization, grayscale, etc.)"
   ]
  },
  {
   "cell_type": "markdown",
   "metadata": {},
   "source": [
    "Minimally, the image data should be normalized so that the data has mean zero and equal variance. For image data, `(pixel - 128)/ 128` is a quick way to approximately normalize the data and can be used in this project. \n",
    "\n",
    "Other pre-processing steps are optional. You can try different techniques to see if it improves performance. \n",
    "\n",
    "Use the code cell (or multiple code cells, if necessary) to implement the first step of your project."
   ]
  },
  {
   "cell_type": "code",
   "execution_count": 8,
   "metadata": {},
   "outputs": [],
   "source": [
    "'''\n",
    "Convert the images to gray scale\n",
    "'''\n",
    "\n",
    "def cvtGrey(img):\n",
    "    img_grey = np.sum(img/3, axis=3, keepdims=True)\n",
    "    return img_grey\n",
    "\n",
    "\n",
    "X_train_grey = cvtGrey(X_train)\n",
    "X_valid_grey = cvtGrey(X_valid)\n",
    "X_test_grey = cvtGrey(X_test)"
   ]
  },
  {
   "cell_type": "code",
   "execution_count": 9,
   "metadata": {},
   "outputs": [],
   "source": [
    "'''\n",
    "Normalize the color values to have mean = 0\n",
    "'''\n",
    "\n",
    "def normalize(img):\n",
    "    img_normalized = (img - 128) / 128\n",
    "    return img_normalized\n",
    "\n",
    "X_train_normalized = normalize(X_train_grey)\n",
    "X_valid_normalized = normalize(X_valid_grey)\n",
    "X_test_normalized = normalize(X_test_grey)"
   ]
  },
  {
   "cell_type": "code",
   "execution_count": 10,
   "metadata": {},
   "outputs": [
    {
     "data": {
      "text/plain": [
       "Text(0.5,1,'normalized')"
      ]
     },
     "execution_count": 10,
     "metadata": {},
     "output_type": "execute_result"
    },
    {
     "data": {
      "image/png": "[encoded data removed]",
      "text/plain": [
       "<matplotlib.figure.Figure at 0x7f0c097e3ba8>"
      ]
     },
     "metadata": {
      "needs_background": "light"
     },
     "output_type": "display_data"
    }
   ],
   "source": [
    "'''\n",
    "Compare: original, grey, normalized\n",
    "'''\n",
    "\n",
    "index = 20213    # randome index for comparison\n",
    "\n",
    "fig, (ax1, ax2, ax3) = plt.subplots(1, 3, figsize=(12,11))\n",
    "ax1.axis('off')\n",
    "ax1.imshow(X_train[index].squeeze())\n",
    "ax1.set_title('original')\n",
    "\n",
    "ax2.axis('off')\n",
    "ax2.imshow(X_train_grey[index].squeeze())\n",
    "ax2.set_title('grey')\n",
    "\n",
    "ax3.axis('off')\n",
    "ax3.imshow(X_train_normalized[index].squeeze())\n",
    "ax3.set_title('normalized')"
   ]
  },
  {
   "cell_type": "code",
   "execution_count": 11,
   "metadata": {},
   "outputs": [
    {
     "data": {
      "text/plain": [
       "Text(0.5,1,'color changed')"
      ]
     },
     "execution_count": 11,
     "metadata": {},
     "output_type": "execute_result"
    },
    {
     "data": {
      "image/png": "[encoded data removed]",
      "text/plain": [
       "<matplotlib.figure.Figure at 0x7f0c095d5d68>"
      ]
     },
     "metadata": {
      "needs_background": "light"
     },
     "output_type": "display_data"
    }
   ],
   "source": [
    "import tensorflow as tf\n",
    "'''\n",
    "Set up tools for image augmentation\n",
    "'''\n",
    "\n",
    "def aug_rotate(x: tf.Tensor) -> tf.Tensor:\n",
    "    \"\"\"Rotation augmentation\n",
    "\n",
    "    Args:\n",
    "        x: Image\n",
    "\n",
    "    Returns:\n",
    "        Augmented image\n",
    "    \"\"\"\n",
    "\n",
    "    # Rotate 0, 90, 180, 270 degrees\n",
    "    return tf.image.rot90(x, 1)\n",
    "\n",
    "def aug_flip(x: tf.Tensor) -> tf.Tensor:\n",
    "    \"\"\"Flip augmentation\n",
    "\n",
    "    Args:\n",
    "        x: Image to flip\n",
    "\n",
    "    Returns:\n",
    "        Augmented image\n",
    "    \"\"\"\n",
    "    x = tf.image.random_flip_left_right(x)\n",
    "    x = tf.image.random_flip_up_down(x)\n",
    "\n",
    "    return x\n",
    "\n",
    "def aug_color(x: tf.Tensor) -> tf.Tensor:\n",
    "    \"\"\"Color augmentation\n",
    "\n",
    "    Args:\n",
    "        x: Image\n",
    "\n",
    "    Returns:\n",
    "        Augmented image\n",
    "    \"\"\"\n",
    "    x = tf.image.random_hue(x, 0.08)\n",
    "    x = tf.image.random_saturation(x, 0.6, 1.6)\n",
    "    x = tf.image.random_brightness(x, 0.05)\n",
    "    x = tf.image.random_contrast(x, 0.7, 1.3)\n",
    "    return x\n",
    "\n",
    "\n",
    "def image_augmentation(img):\n",
    "    im1 = aug_rotate(img)\n",
    "    im2 = aug_flip(img)\n",
    "    im3 = aug_color(img)\n",
    "    \n",
    "    return im1, im2, im3\n",
    "\n",
    "index = 20213    # randome index for comparison\n",
    "example = X_train[index]\n",
    "\n",
    "# run image augmentation\n",
    "rotated, flipped, colored = image_augmentation(example)\n",
    "\n",
    "# initiate tensorflow graph\n",
    "init = tf.global_variables_initializer()\n",
    "sess = tf.Session()\n",
    "sess.run(init)\n",
    "rotated = sess.run(rotated)\n",
    "flipped = sess.run(flipped)\n",
    "colored = sess.run(colored)\n",
    "\n",
    "# plot the results for comparison\n",
    "fig, (ax1, ax2, ax3, ax4) = plt.subplots(1, 4, figsize=(12,11))\n",
    "ax1.axis('off')\n",
    "ax1.imshow(example)\n",
    "ax1.set_title('original')\n",
    "\n",
    "ax2.axis('off')\n",
    "ax2.imshow(rotated)\n",
    "ax2.set_title('rotated 90')\n",
    "\n",
    "ax3.axis('off')\n",
    "ax3.imshow(flipped)\n",
    "ax3.set_title('flipped')\n",
    "\n",
    "ax4.axis('off')\n",
    "ax4.imshow(colored)\n",
    "ax4.set_title('color changed')"
   ]
  },
  {
   "cell_type": "code",
   "execution_count": 12,
   "metadata": {},
   "outputs": [],
   "source": [
    "from IPython.display import clear_output\n",
    "\n",
    "'''\n",
    "Running image augmentation on the datasets\n",
    "'''\n",
    "\n",
    "def data_augmentation(X_data, y_data, n_classes, sess):\n",
    "    \n",
    "    mean = len(y_data) / n_classes\n",
    "\n",
    "    with tf.Session() as sess:\n",
    "        sess.run(tf.global_variables_initializer())\n",
    "\n",
    "        for i in range(n_classes):\n",
    "            \n",
    "            inds = np.where(y_data==i)[0]\n",
    "            img_cnt = 1\n",
    "            if len(inds) < (mean):    \n",
    "                for ind in range(len(inds)):\n",
    "                    \n",
    "                    if len(inds)+ind > mean:   # augment until it reachs mean\n",
    "                        break\n",
    "                    \n",
    "                    else:\n",
    "                        clear_output()\n",
    "                        print('Augmenting class #{}, image {} / {}'.format(i, img_cnt, len(inds)))\n",
    "                        img_cnt += 1\n",
    "\n",
    "                        img_rot,img_flip,img_color = image_augmentation(X_data[inds[ind]])\n",
    "                        img_rot = img_rot[None,:,:,:]\n",
    "                        img_flip = img_flip[None,:,:,:]\n",
    "                        img_color = img_color[None,:,:,:]\n",
    "                        img_rot = sess.run(img_rot)\n",
    "                        img_flip = sess.run(img_flip)\n",
    "                        img_color = sess.run(img_color)\n",
    "\n",
    "                        X_data = np.concatenate((X_data,img_rot,img_flip,img_color))\n",
    "                        y_data = np.concatenate((y_data, [i],[i],[i]))\n",
    "    clear_output()\n",
    "    print('Augmentation Finished')\n",
    "                \n",
    "    return X_data, y_data"
   ]
  },
  {
   "cell_type": "code",
   "execution_count": 12,
   "metadata": {},
   "outputs": [
    {
     "data": {
      "text/plain": [
       "'\\nAugment Training dataset\\nAugment Validation dataset\\n'"
      ]
     },
     "execution_count": 12,
     "metadata": {},
     "output_type": "execute_result"
    }
   ],
   "source": [
    "'''\n",
    "Augment Training dataset\n",
    "Augment Validation dataset\n",
    "'''\n",
    "\n",
    "# with tf.Session() as sess:\n",
    "#     sess.run(tf.global_variables_initializer())\n",
    "#     X_train_aug, y_train_aug = data_augmentation(X_train, y_train, n_classes, sess)\n",
    "#     X_valid_aug, y_valid_aug = data_augmentation(X_valid, y_valid, n_classes, sess)\n",
    "\n",
    "# print('train')\n",
    "# print('Original: ', X_train.shape, y_train.shape)\n",
    "# print('Augmented: ', X_train_aug.shape, y_train_aug.shape)\n",
    "# print('\\nvalid')\n",
    "# print('Original: ', X_valid.shape, y_valid.shape)\n",
    "# print('Augmented: ', X_valid_aug.shape, y_valid_aug.shape)"
   ]
  },
  {
   "cell_type": "code",
   "execution_count": 13,
   "metadata": {},
   "outputs": [
    {
     "data": {
      "text/plain": [
       "'\\nSave the augmented validation dataset for later use (No need to run every time)\\n'"
      ]
     },
     "execution_count": 13,
     "metadata": {},
     "output_type": "execute_result"
    }
   ],
   "source": [
    "'''\n",
    "Save the augmented validation dataset for later use (No need to run every time)\n",
    "'''\n",
    "# with open('./data/X_train_aug.p', mode='wb') as f:\n",
    "#     pickle.dump(X_train_aug, f)\n",
    "# with open('./data/y_train_aug.p', mode='wb') as f:\n",
    "#     pickle.dump(y_train_aug, f)\n",
    "\n",
    "# with open('./data/X_valid_aug.p', mode='wb') as f:\n",
    "#     pickle.dump(X_valid_aug, f)\n",
    "# with open('./data/y_valid_aug.p', mode='wb') as f:\n",
    "#     pickle.dump(y_valid_aug, f)"
   ]
  },
  {
   "cell_type": "code",
   "execution_count": 14,
   "metadata": {},
   "outputs": [
    {
     "name": "stdout",
     "output_type": "stream",
     "text": [
      "(46480, 32, 32, 1)\n",
      "(46480,)\n"
     ]
    }
   ],
   "source": [
    "'''\n",
    "Load the augmented training dataset\n",
    "'''\n",
    "\n",
    "with open('./data/X_train_aug.p', mode='rb') as f:\n",
    "    X_train_aug = pickle.load(f)\n",
    "with open('./data/y_train_aug.p', mode='rb') as f:\n",
    "    y_train_aug = pickle.load(f)    \n",
    "    \n",
    "print(X_train_aug.shape)\n",
    "print(y_train_aug.shape)"
   ]
  },
  {
   "cell_type": "code",
   "execution_count": 15,
   "metadata": {},
   "outputs": [
    {
     "name": "stdout",
     "output_type": "stream",
     "text": [
      "(5630, 32, 32, 1)\n",
      "(5630,)\n"
     ]
    }
   ],
   "source": [
    "'''\n",
    "Load the augmented validation dataset\n",
    "'''\n",
    "\n",
    "with open('./data/X_valid_aug.p', mode='rb') as f:\n",
    "    X_valid_aug = pickle.load(f)\n",
    "with open('./data/y_valid_aug.p', mode='rb') as f:\n",
    "    y_valid_aug = pickle.load(f)\n",
    "\n",
    "print(X_valid_aug.shape)\n",
    "print(y_valid_aug.shape)    "
   ]
  },
  {
   "cell_type": "code",
   "execution_count": 16,
   "metadata": {},
   "outputs": [
    {
     "data": {
      "text/plain": [
       "Text(19,2000,'Validation total number: 34799')"
      ]
     },
     "execution_count": 16,
     "metadata": {},
     "output_type": "execute_result"
    },
    {
     "data": {
      "image/png": "[encoded data removed]",
      "text/plain": [
       "<matplotlib.figure.Figure at 0x7f76d8aaef98>"
      ]
     },
     "metadata": {
      "needs_background": "light"
     },
     "output_type": "display_data"
    }
   ],
   "source": [
    "'''\n",
    "Compare the augmented training dataset to the original\n",
    "'''\n",
    "\n",
    "fig, (ax1, ax2) = plt.subplots(2, 1, figsize=(12,11))\n",
    "\n",
    "# train_aug data\n",
    "ax1.hist(y_train_aug, np.unique(y_train_aug))\n",
    "ax1.set_title('train_aug', fontsize=15)\n",
    "ax1.text(19,2000,'total number: {}'.format(len(y_train_aug)), fontsize=12)\n",
    "\n",
    "# train data\n",
    "ax2.hist(y_train, np.unique(y_train))\n",
    "ax2.set_title('train', fontsize=15)\n",
    "ax2.text(19,2000,'Validation total number: {}'.format(len(y_train)), fontsize=12)"
   ]
  },
  {
   "cell_type": "code",
   "execution_count": 17,
   "metadata": {},
   "outputs": [
    {
     "data": {
      "text/plain": [
       "Text(19,200,'Validation total number: 4410')"
      ]
     },
     "execution_count": 17,
     "metadata": {},
     "output_type": "execute_result"
    },
    {
     "data": {
      "image/png": "[encoded data removed]",
      "text/plain": [
       "<matplotlib.figure.Figure at 0x7f76d89c17b8>"
      ]
     },
     "metadata": {
      "needs_background": "light"
     },
     "output_type": "display_data"
    }
   ],
   "source": [
    "'''\n",
    "Compare the augmented validation dataset to the original\n",
    "'''\n",
    "fig, (ax1, ax2) = plt.subplots(2, 1, figsize=(12,11))\n",
    "\n",
    "# valid_aug data\n",
    "ax1.hist(y_valid_aug, np.unique(y_valid_aug))\n",
    "ax1.set_title('valid_aug', fontsize=15)\n",
    "ax1.text(19,200,'total number: {}'.format(len(y_valid_aug)), fontsize=12)\n",
    "\n",
    "# valid data\n",
    "ax2.hist(y_valid, np.unique(y_valid))\n",
    "ax2.set_title('validation', fontsize=15)\n",
    "ax2.text(19,200,'Validation total number: {}'.format(len(y_valid)), fontsize=12)"
   ]
  },
  {
   "cell_type": "code",
   "execution_count": 18,
   "metadata": {},
   "outputs": [],
   "source": [
    "import tensorflow as tf\n",
    "\n",
    "'''\n",
    "Set up hyper-parameters for tensorflow\n",
    "'''\n",
    "\n",
    "rate = 0.0009\n",
    "EPOCHS = 25\n",
    "BATCH_SIZE = 256\n",
    "rate = 0.003"
   ]
  },
  {
   "cell_type": "code",
   "execution_count": 19,
   "metadata": {},
   "outputs": [],
   "source": [
    "'''\n",
    "Model Architecture: LeNet\n",
    "'''\n",
    "\n",
    "def LeNet(x):    \n",
    "    # Hyperparameters\n",
    "    mu = 0\n",
    "    sigma = 0.1\n",
    "    \n",
    "    # TODO: Layer 1: Convolutional. Input = 32x32x1. Output = 28x28x6.\n",
    "    W1 = tf.Variable(tf.truncated_normal(shape=(5, 5, 1, 6), mean = mu, stddev = sigma))\n",
    "    x = tf.nn.conv2d(x, W1, strides=[1, 1, 1, 1], padding='VALID')\n",
    "    b1 = tf.Variable(tf.zeros(6))\n",
    "    x = tf.nn.bias_add(x, b1)\n",
    "\n",
    "    # TODO: Activation.\n",
    "    x = tf.nn.relu(x)\n",
    "    \n",
    "    # TODO: Pooling. Input = 28x28x6. Output = 14x14x6.\n",
    "    x = tf.nn.max_pool(x, ksize=[1, 2, 2, 1], strides=[1, 2, 2, 1], padding='VALID')\n",
    "    \n",
    "    # TODO: Layer 2: Convolutional. Output = 10x10x16.\n",
    "    W2 = tf.Variable(tf.truncated_normal(shape=(5, 5, 6, 16), mean = mu, stddev = sigma))\n",
    "    x = tf.nn.conv2d(x, W2, strides=[1, 1, 1, 1], padding='VALID')\n",
    "    b2 = tf.Variable(tf.zeros(16))\n",
    "    x = tf.nn.bias_add(x, b2)\n",
    "                     \n",
    "    # TODO: Activation.\n",
    "    x = tf.nn.relu(x)\n",
    "\n",
    "    # TODO: Pooling. Input = 10x10x16. Output = 5x5x16.\n",
    "    x = tf.nn.max_pool(x, ksize=[1, 2, 2, 1], strides=[1, 2, 2, 1], padding='VALID')\n",
    "\n",
    "    # TODO: Flatten. Input = 5x5x16. Output = 400.\n",
    "    x = flatten(x)\n",
    "    \n",
    "    # TODO: Layer 3: Fully Connected. Input = 400. Output = 120.\n",
    "    W3 = tf.Variable(tf.truncated_normal(shape=(400, 120), mean = mu, stddev = sigma))\n",
    "    b3 = tf.Variable(tf.zeros(120))    \n",
    "    x = tf.add(tf.matmul(x, W3), b3)\n",
    "    \n",
    "    # TODO: Activation.\n",
    "    x = tf.nn.relu(x)\n",
    "    \n",
    "    # Dropout\n",
    "    x = tf.nn.dropout(x, keep_prob)\n",
    "\n",
    "    # TODO: Layer 4: Fully Connected. Input = 120. Output = 84.\n",
    "    W4 = tf.Variable(tf.truncated_normal(shape=(120, 84), mean = mu, stddev = sigma))\n",
    "    b4 = tf.Variable(tf.zeros(84)) \n",
    "    x = tf.add(tf.matmul(x, W4), b4)\n",
    "    \n",
    "    # TODO: Activation.\n",
    "    x = tf.nn.relu(x)\n",
    "    \n",
    "    # Dropout\n",
    "    x = tf.nn.dropout(x, keep_prob)\n",
    "\n",
    "    # TODO: Layer 5: Fully Connected. Input = 84. Output = 43.\n",
    "    W5 = tf.Variable(tf.truncated_normal(shape=(84, 43), mean = mu, stddev = sigma))\n",
    "    b5 = tf.Variable(tf.zeros(43)) \n",
    "    logits = tf.add(tf.matmul(x, W5), b5)\n",
    "    \n",
    "    return logits"
   ]
  },
  {
   "cell_type": "code",
   "execution_count": 20,
   "metadata": {},
   "outputs": [],
   "source": [
    "'''\n",
    "Make tensorflow variables\n",
    "'''\n",
    "tf.reset_default_graph()   # reset the graph\n",
    "\n",
    "# input\n",
    "x = tf.placeholder(tf.float32, (None, 32, 32, 1))\n",
    "# output\n",
    "y = tf.placeholder(tf.int32, (None))\n",
    "one_hot_y = tf.one_hot(y, n_classes)\n",
    "\n",
    "# keeping-probability for \"dropouts\"\n",
    "keep_prob = tf.placeholder(tf.float32) # probability to keep units"
   ]
  },
  {
   "cell_type": "code",
   "execution_count": 21,
   "metadata": {},
   "outputs": [],
   "source": [
    "from tensorflow.contrib.layers import flatten\n",
    "\n",
    "'''\n",
    "Build the Training process\n",
    "'''\n",
    "\n",
    "logits = LeNet(x)\n",
    "cross_entropy = tf.nn.softmax_cross_entropy_with_logits(labels=one_hot_y, logits=logits)\n",
    "loss_operation = tf.reduce_mean(cross_entropy)\n",
    "optimizer = tf.train.AdamOptimizer(learning_rate = rate)\n",
    "training_operation = optimizer.minimize(loss_operation)\n",
    "\n",
    "correct_prediction = tf.equal(tf.argmax(logits, 1), tf.argmax(one_hot_y, 1))\n",
    "accuracy_operation = tf.reduce_mean(tf.cast(correct_prediction, tf.float32))\n",
    "saver = tf.train.Saver()\n",
    "\n",
    "def evaluate(X_data, y_data):\n",
    "    num_examples = len(X_data)\n",
    "    total_accuracy = 0\n",
    "    sess = tf.get_default_session()\n",
    "    for offset in range(0, num_examples, BATCH_SIZE):\n",
    "        batch_x, batch_y = X_data[offset:offset+BATCH_SIZE], y_data[offset:offset+BATCH_SIZE]\n",
    "        accuracy = sess.run(accuracy_operation, feed_dict={x: batch_x, y: batch_y, keep_prob: 1.0})\n",
    "        total_accuracy += (accuracy * len(batch_x))\n",
    "    return total_accuracy / num_examples"
   ]
  },
  {
   "cell_type": "code",
   "execution_count": 22,
   "metadata": {},
   "outputs": [
    {
     "name": "stdout",
     "output_type": "stream",
     "text": [
      "Training begins...\n",
      "\n",
      "EPOCH 1 ...\n",
      "Training  Accuracy  = 0.766\n",
      "Validation Accuracy = 0.712\n",
      "\n",
      "EPOCH 2 ...\n",
      "Training  Accuracy  = 0.882\n",
      "Validation Accuracy = 0.829\n",
      "\n",
      "EPOCH 3 ...\n",
      "Training  Accuracy  = 0.922\n",
      "Validation Accuracy = 0.865\n",
      "\n",
      "EPOCH 4 ...\n",
      "Training  Accuracy  = 0.945\n",
      "Validation Accuracy = 0.884\n",
      "\n",
      "EPOCH 5 ...\n",
      "Training  Accuracy  = 0.956\n",
      "Validation Accuracy = 0.902\n",
      "\n",
      "EPOCH 6 ...\n",
      "Training  Accuracy  = 0.961\n",
      "Validation Accuracy = 0.912\n",
      "\n",
      "EPOCH 7 ...\n",
      "Training  Accuracy  = 0.972\n",
      "Validation Accuracy = 0.910\n",
      "\n",
      "EPOCH 8 ...\n",
      "Training  Accuracy  = 0.973\n",
      "Validation Accuracy = 0.916\n",
      "\n",
      "EPOCH 9 ...\n",
      "Training  Accuracy  = 0.976\n",
      "Validation Accuracy = 0.917\n",
      "\n",
      "EPOCH 10 ...\n",
      "Training  Accuracy  = 0.980\n",
      "Validation Accuracy = 0.921\n",
      "\n",
      "EPOCH 11 ...\n",
      "Training  Accuracy  = 0.984\n",
      "Validation Accuracy = 0.925\n",
      "\n",
      "EPOCH 12 ...\n",
      "Training  Accuracy  = 0.983\n",
      "Validation Accuracy = 0.928\n",
      "\n",
      "EPOCH 13 ...\n",
      "Training  Accuracy  = 0.986\n",
      "Validation Accuracy = 0.918\n",
      "\n",
      "EPOCH 14 ...\n",
      "Training  Accuracy  = 0.987\n",
      "Validation Accuracy = 0.933\n",
      "\n",
      "EPOCH 15 ...\n",
      "Training  Accuracy  = 0.987\n",
      "Validation Accuracy = 0.931\n",
      "\n",
      "EPOCH 16 ...\n",
      "Training  Accuracy  = 0.990\n",
      "Validation Accuracy = 0.934\n",
      "\n",
      "EPOCH 17 ...\n",
      "Training  Accuracy  = 0.984\n",
      "Validation Accuracy = 0.939\n",
      "\n",
      "EPOCH 18 ...\n",
      "Training  Accuracy  = 0.991\n",
      "Validation Accuracy = 0.941\n",
      "\n",
      "EPOCH 19 ...\n",
      "Training  Accuracy  = 0.990\n",
      "Validation Accuracy = 0.935\n",
      "\n",
      "EPOCH 20 ...\n",
      "Training  Accuracy  = 0.992\n",
      "Validation Accuracy = 0.936\n",
      "\n",
      "EPOCH 21 ...\n",
      "Training  Accuracy  = 0.990\n",
      "Validation Accuracy = 0.938\n",
      "\n",
      "EPOCH 22 ...\n",
      "Training  Accuracy  = 0.993\n",
      "Validation Accuracy = 0.937\n",
      "\n",
      "EPOCH 23 ...\n",
      "Training  Accuracy  = 0.991\n",
      "Validation Accuracy = 0.943\n",
      "\n",
      "EPOCH 24 ...\n",
      "Training  Accuracy  = 0.992\n",
      "Validation Accuracy = 0.937\n",
      "\n",
      "EPOCH 25 ...\n",
      "Training  Accuracy  = 0.992\n",
      "Validation Accuracy = 0.936\n",
      "\n",
      "Training ended\n",
      "Model saved\n"
     ]
    }
   ],
   "source": [
    "from sklearn.utils import shuffle\n",
    "\n",
    "'''\n",
    "Run the Training process\n",
    "'''\n",
    "\n",
    "with tf.Session() as sess:\n",
    "    sess.run(tf.global_variables_initializer())\n",
    "    num_examples = len(X_train_aug)\n",
    "    \n",
    "    print(\"Training begins...\")\n",
    "    print()\n",
    "    for i in range(EPOCHS):\n",
    "        X_train_aug, y_train_aug = shuffle(X_train_aug, y_train_aug)\n",
    "        for offset in range(0, num_examples, BATCH_SIZE):\n",
    "            end = offset + BATCH_SIZE\n",
    "            batch_x, batch_y = X_train_aug[offset:end], y_train_aug[offset:end]\n",
    "            sess.run(training_operation, feed_dict={x: batch_x, y: batch_y, keep_prob: 0.5})\n",
    "        \n",
    "        training_accuracy = evaluate(X_train_aug, y_train_aug)\n",
    "        validation_accuracy = evaluate(X_valid_aug, y_valid_aug)\n",
    "        print(\"EPOCH {} ...\".format(i+1))\n",
    "        print(\"Training  Accuracy  = {:.3f}\".format(training_accuracy))\n",
    "        print(\"Validation Accuracy = {:.3f}\".format(validation_accuracy))\n",
    "        print()\n",
    "        \n",
    "    saver.save(sess, 'lenet')\n",
    "    print(\"Training ended\")\n",
    "    print(\"Model saved\")"
   ]
  },
  {
   "cell_type": "code",
   "execution_count": 23,
   "metadata": {},
   "outputs": [
    {
     "name": "stdout",
     "output_type": "stream",
     "text": [
      "INFO:tensorflow:Restoring parameters from ./lenet\n",
      "Test Accuracy = 0.942\n"
     ]
    }
   ],
   "source": [
    "with tf.Session() as sess:\n",
    "    saver.restore(sess, tf.train.latest_checkpoint('.'))\n",
    "    test_accuracy = evaluate(X_test_normalized, y_test)\n",
    "    print(\"Test Accuracy = {:.3f}\".format(test_accuracy))"
   ]
  },
  {
   "cell_type": "markdown",
   "metadata": {},
   "source": [
    "### Predict the Sign Type for Each Image"
   ]
  },
  {
   "cell_type": "code",
   "execution_count": 24,
   "metadata": {},
   "outputs": [
    {
     "name": "stdout",
     "output_type": "stream",
     "text": [
      "Tensor(\"Add_2:0\", shape=(?, 43), dtype=float32)\n",
      "Tensor(\"Placeholder_2:0\", dtype=float32)\n",
      "Tensor(\"Placeholder:0\", shape=(?, 32, 32, 1), dtype=float32)\n"
     ]
    }
   ],
   "source": [
    "'''\n",
    "Check variable names for setting up the model\n",
    "'''\n",
    "\n",
    "print(logits)\n",
    "print(keep_prob)\n",
    "print(x)"
   ]
  },
  {
   "cell_type": "code",
   "execution_count": 25,
   "metadata": {},
   "outputs": [
    {
     "data": {
      "image/png": "[encoded data removed]",
      "text/plain": [
       "<matplotlib.figure.Figure at 0x7f760b4caf28>"
      ]
     },
     "metadata": {
      "needs_background": "light"
     },
     "output_type": "display_data"
    }
   ],
   "source": [
    "import glob\n",
    "\n",
    "'''\n",
    "Load downloaded images\n",
    "'''\n",
    "downloaded_images = sorted(glob.glob('./downloaded_images/*.png'))\n",
    "downloaded_labels = np.array([1, 14, 12, 2, 16])\n",
    "\n",
    "num_example = 5\n",
    "fig, axes = plt.subplots(1, num_example, figsize=(12,3))\n",
    "images = np.zeros((5,32,32,3))\n",
    "\n",
    "for i in range(len(downloaded_labels)):\n",
    "    images[i] = plt.imread(downloaded_images[i])\n",
    "    image = plt.imread(downloaded_images[i])\n",
    "    answer = downloaded_labels[i]\n",
    "    axes[i].axis('off')\n",
    "    axes[i].imshow(image)\n",
    "    axes[i].set_title('{}: {}'.format(ClassId[answer],SignName[answer]))"
   ]
  },
  {
   "cell_type": "code",
   "execution_count": 26,
   "metadata": {},
   "outputs": [
    {
     "data": {
      "text/plain": [
       "Text(0.5,1,'normalized')"
      ]
     },
     "execution_count": 26,
     "metadata": {},
     "output_type": "execute_result"
    },
    {
     "data": {
      "image/png": "[encoded data removed]",
      "text/plain": [
       "<matplotlib.figure.Figure at 0x7f760af21f28>"
      ]
     },
     "metadata": {
      "needs_background": "light"
     },
     "output_type": "display_data"
    }
   ],
   "source": [
    "'''\n",
    "preprocess the downloaded images\n",
    "'''\n",
    "\n",
    "# convert to grey scale\n",
    "images_grey = cvtGrey(images)\n",
    "\n",
    "# normalize to have mean = 0\n",
    "images_normalized = normalize(images_grey)\n",
    "\n",
    "# check the result\n",
    "fig, (ax1, ax2, ax3) = plt.subplots(1, 3, figsize=(12,11))\n",
    "ax1.axis('off')\n",
    "ax1.imshow(images[4].squeeze())\n",
    "ax1.set_title('original')\n",
    "\n",
    "ax2.axis('off')\n",
    "ax2.imshow(images_grey[4].squeeze())\n",
    "ax2.set_title('grey')\n",
    "\n",
    "ax3.axis('off')\n",
    "ax3.imshow(images_normalized[4].squeeze())\n",
    "ax3.set_title('normalized')"
   ]
  },
  {
   "cell_type": "code",
   "execution_count": 27,
   "metadata": {},
   "outputs": [
    {
     "name": "stdout",
     "output_type": "stream",
     "text": [
      "INFO:tensorflow:Restoring parameters from lenet\n",
      "prediction: 1, answer: 1\n",
      "# 1 : correct\n",
      "prediction: 14, answer: 14\n",
      "# 2 : correct\n",
      "prediction: 12, answer: 12\n",
      "# 3 : correct\n",
      "prediction: 2, answer: 2\n",
      "# 4 : correct\n",
      "prediction: 16, answer: 16\n",
      "# 5 : correct\n",
      "Test Accuracy: 100.0%\n"
     ]
    }
   ],
   "source": [
    "''' \n",
    "Test the model with the downloaded images\n",
    "'''    \n",
    "\n",
    "init = tf.global_variables_initializer()\n",
    "with tf.Session() as sess:\n",
    "    imported = tf.train.import_meta_graph('lenet.meta')\n",
    "    imported.restore(sess, 'lenet')\n",
    "\n",
    "    graph = tf.get_default_graph()\n",
    "    x = graph.get_tensor_by_name(\"Placeholder:0\")\n",
    "    keep_prob = graph.get_tensor_by_name(\"Placeholder_2:0\")\n",
    "    y = graph.get_tensor_by_name(\"Add_2:0\")   # last Fully Connected Network\n",
    "    \n",
    "    score = 0\n",
    "    for i in range(5):\n",
    "        output = sess.run(y, feed_dict={x: images_grey[i].reshape((1,32,32,1)), keep_prob: 1.0 })\n",
    "        prediction = np.argmax(output)\n",
    "        answer = downloaded_labels[i]\n",
    "        print('prediction: {}, answer: {}'.format(prediction, answer))\n",
    "        \n",
    "        if prediction == answer:\n",
    "            print('#', i+1,': correct')\n",
    "            score += 1\n",
    "        else:\n",
    "            print('#', i+1,': wrong')\n",
    "\n",
    "    print('Test Accuracy: {}%'.format(score/5 * 100))"
   ]
  },
  {
   "cell_type": "code",
   "execution_count": 28,
   "metadata": {},
   "outputs": [
    {
     "name": "stdout",
     "output_type": "stream",
     "text": [
      "INFO:tensorflow:Restoring parameters from ./lenet\n",
      "TopKV2(values=array([[  6.30766273e-01,   1.52271092e-01,   7.64491484e-02,\n",
      "          7.54333884e-02,   4.05259728e-02],\n",
      "       [  9.99997020e-01,   2.74963077e-06,   1.07703741e-07,\n",
      "          1.00150331e-07,   8.46000159e-09],\n",
      "       [  9.99999762e-01,   2.50623174e-07,   4.44629258e-08,\n",
      "          2.88620683e-09,   1.37493184e-09],\n",
      "       [  9.98996675e-01,   7.10501510e-04,   2.89492978e-04,\n",
      "          2.51901361e-06,   6.39615678e-07],\n",
      "       [  9.99325991e-01,   5.19194058e-04,   1.08435452e-04,\n",
      "          4.14070564e-05,   1.74111415e-06]], dtype=float32), indices=array([[ 1,  2,  0,  4,  5],\n",
      "       [14, 38, 34,  1, 13],\n",
      "       [12, 40, 32, 41, 42],\n",
      "       [ 2,  5,  3,  1,  7],\n",
      "       [16, 37, 35,  9, 33]], dtype=int32))\n"
     ]
    }
   ],
   "source": [
    "'''\n",
    "Print out the top five softmax probabilities for the predictions\n",
    "'''\n",
    "\n",
    "k_size = 5\n",
    "softmax_logits = tf.nn.softmax(logits)\n",
    "top_k = tf.nn.top_k(softmax_logits, k=k_size)\n",
    "\n",
    "with tf.Session() as sess:\n",
    "    sess.run(tf.global_variables_initializer())\n",
    "    saver.restore(sess, \"./lenet\")\n",
    "    sm_logits = sess.run(softmax_logits, feed_dict={x: images_grey, keep_prob: 1.0})\n",
    "    top5 = sess.run(top_k, feed_dict={x: images_grey, keep_prob: 1.0})\n",
    "    \n",
    "    print(top5)"
   ]
  },
  {
   "cell_type": "markdown",
   "metadata": {},
   "source": [
    "# '''\n",
    "Show the top five softmax probabilities for the predictions\n",
    "'''\n",
    "\n",
    "# build figures and subplots\n",
    "num_example = 5\n",
    "num_prediction = 5\n",
    "fig, axes = plt.subplots(num_example, num_prediction+1, figsize=(15,15))\n",
    "images = np.zeros((5,32,32,3))\n",
    "\n",
    "for i in range(num_example):\n",
    "    # original input\n",
    "    image = plt.imread(downloaded_images[i])\n",
    "    answer = downloaded_labels[i]    \n",
    "    axes[i][0].axis('off')\n",
    "    axes[i][0].imshow(image)\n",
    "    axes[i][0].set_title('{}'.format(SignName[answer]))\n",
    "    \n",
    "    for j in range(num_prediction):\n",
    "        #predictions\n",
    "        images[i] = plt.imread(downloaded_images[i])\n",
    "        pred = top5[1][i][j]    # index\n",
    "        image = X_test[np.argwhere(y_test == pred)][1].squeeze()\n",
    "        axes[i][j+1].axis('off')\n",
    "        axes[i][j+1].imshow(image)\n",
    "        axes[i][j+1].set_title('{}'.format(SignName[pred]))\n",
    "        # probability of each prediction\n",
    "        axes[i][j+1].text(2, 4, '{0:.3f}%'.format(top5[0][i][j]*100), bbox={'facecolor': 'white', 'alpha': 0.7, 'pad': 3})"
   ]
  }
 ],
 "metadata": {
  "anaconda-cloud": {},
  "kernelspec": {
   "display_name": "Python 3",
   "language": "python",
   "name": "python3"
  },
  "language_info": {
   "codemirror_mode": {
    "name": "ipython",
    "version": 3
   },
   "file_extension": ".py",
   "mimetype": "text/x-python",
   "name": "python",
   "nbconvert_exporter": "python",
   "pygments_lexer": "ipython3",
   "version": "3.6.3"
  }
 },
 "nbformat": 4,
 "nbformat_minor": 1
}
